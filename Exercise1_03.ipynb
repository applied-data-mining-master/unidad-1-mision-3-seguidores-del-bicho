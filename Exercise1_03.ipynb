{
 "cells": [
  {
   "cell_type": "markdown",
   "metadata": {},
   "source": [
    "# Exercise 1.03: Teaching the Agent to Win\n",
    "\n",
    "In this exercise, we will see how the steps needed to win can be reduced. We will be making the agent that we developed in the previous section activity detect situations where it can win a game.\n",
    "\n",
    "The following steps will help you to complete this exercise:"
   ]
  },
  {
   "cell_type": "markdown",
   "metadata": {},
   "source": [
    "1.- Reuse the previous code from Steps 1–5 from Activity 1.01"
   ]
  },
  {
   "cell_type": "code",
   "execution_count": 1,
   "metadata": {},
   "outputs": [],
   "source": [
    "from random import choice\n",
    "\n",
    "combos_index = [\n",
    "    [0, 1, 2],\n",
    "    [0, 3, 6],\n",
    "    [0, 4, 8],\n",
    "    [1, 4, 7],\n",
    "    [2, 4, 6],\n",
    "    [2, 5, 8],\n",
    "    [3, 4, 5],\n",
    "    [6, 7, 8]\n",
    "]\n",
    "\n",
    "vacio = '-'\n",
    "IA = 'O'\n",
    "yo = 'X'\n",
    "\n",
    "\n",
    "def imprimir(tablero):\n",
    "    print(f'\\n{\" \".join(tablero[:3])}\\n{\" \".join(tablero[3:6])}\\n{\" \".join(tablero[6:])}\\n')\n",
    "\n",
    "\n",
    "def movJugador(tablero, fila, columna):\n",
    "    index = 3 * (fila - 1) + (columna - 1)\n",
    "    if tablero[index] == vacio:\n",
    "        tablero[index] = yo\n",
    "\n",
    "    return tablero\n",
    "\n",
    "\n",
    "def ganarJuego(tablero):\n",
    "    for combo_index in combos_index:\n",
    "        if tablero[combo_index[0]] == tablero[combo_index[1]] == tablero[combo_index[2]] != vacio:\n",
    "            return tablero[combo_index[0]]\n",
    "        \n",
    "    return vacio\n",
    "\n",
    "\n",
    "def game_loop():\n",
    "    tablero = [vacio for _ in range(0, 9)]\n",
    "    empty_cell_count = 9\n",
    "    game_ended = False\n",
    "    \n",
    "    while empty_cell_count > 0 and  not game_ended:\n",
    "        if empty_cell_count % 2 == 0:\n",
    "            tablero = ia_mov(tablero)\n",
    "        else:\n",
    "            fila = int(input('Fila: '))\n",
    "            columna = int(input('Columna: '))\n",
    "            tablero = movJugador(tablero, fila, columna)\n",
    "            \n",
    "        imprimir(tablero)\n",
    "        \n",
    "        # Actualización de condiciones\n",
    "        if ganarJuego(tablero) != vacio:\n",
    "            game_ended = True\n",
    "        \n",
    "        empty_cell_count = tablero.count(vacio)"
   ]
  },
  {
   "cell_type": "code",
   "execution_count": 2,
   "metadata": {},
   "outputs": [],
   "source": [
    "# steps 2-5 of Acctivity"
   ]
  },
  {
   "cell_type": "markdown",
   "metadata": {},
   "source": [
    "2.- Re-define the function, `ai_move`.  `ai_move` will return a move that consider its own previous moves. If the game can be won in that move, ai_move will select that move:"
   ]
  },
  {
   "cell_type": "code",
   "execution_count": 3,
   "metadata": {},
   "outputs": [],
   "source": [
    "def movimientos(tablero, sign):\n",
    "    boards_list = list()\n",
    "\n",
    "    for index in range(len(tablero)):\n",
    "        if tablero[index] == vacio:\n",
    "            temp_board = tablero.copy()\n",
    "            temp_board[index] = sign\n",
    "\n",
    "            if ganarJuego(temp_board) == sign:\n",
    "                return temp_board\n",
    "\n",
    "            boards_list.append(temp_board)\n",
    "\n",
    "    return boards_list\n",
    "\n",
    "\n",
    "def ia_mov(tablero):\n",
    "    boards_list = movimientos(tablero, IA)\n",
    "\n",
    "    if len(boards_list) == 9:\n",
    "        return boards_list\n",
    "    return choice(boards_list)"
   ]
  },
  {
   "cell_type": "markdown",
   "metadata": {},
   "source": [
    "3.- Test the code snippet with a game loop."
   ]
  },
  {
   "cell_type": "code",
   "execution_count": 4,
   "metadata": {},
   "outputs": [
    {
     "name": "stdout",
     "output_type": "stream",
     "text": [
      "Fila: 3\n",
      "Columna: 3\n",
      "\n",
      "- - -\n",
      "- - -\n",
      "- - X\n",
      "\n",
      "\n",
      "- - -\n",
      "- - -\n",
      "- O X\n",
      "\n",
      "Fila: 2\n",
      "Columna: 2\n",
      "\n",
      "- - -\n",
      "- X -\n",
      "- O X\n",
      "\n",
      "\n",
      "- - -\n",
      "- X -\n",
      "O O X\n",
      "\n",
      "Fila: 1\n",
      "Columna: 1\n",
      "\n",
      "X - -\n",
      "- X -\n",
      "O O X\n",
      "\n"
     ]
    }
   ],
   "source": [
    "game_loop()"
   ]
  },
  {
   "cell_type": "markdown",
   "metadata": {},
   "source": [
    "4.- Count all the possible moves. To do this, we must change the `all_moves_from_board` function to include this improvement. We must do this so that, if the game is won by `AI_SIGN`, it will return that value"
   ]
  },
  {
   "cell_type": "code",
   "execution_count": 5,
   "metadata": {},
   "outputs": [],
   "source": [
    "def movimientos(tablero, sign):\n",
    "    moves = list()\n",
    "\n",
    "    for index in range(len(tablero)):\n",
    "        if tablero[index] == vacio:\n",
    "            temp_board = tablero[:index] + sign + tablero[index + 1:]\n",
    "            moves.append(temp_board)\n",
    "\n",
    "            if ganarJuego(temp_board) == IA:\n",
    "                return [temp_board]\n",
    "\n",
    "    return moves"
   ]
  },
  {
   "cell_type": "markdown",
   "metadata": {},
   "source": [
    "5.- find all the possibilities using the `count_possibilities` function\n",
    "\n",
    "Output:\n",
    "\n",
    "```\n",
    "step 0. Moves: 1\n",
    " step 1. Moves: 9\n",
    " step 2. Moves: 72\n",
    " step 3. Moves: 504\n",
    " step 4. Moves: 3024\n",
    " step 5. Moves: 8525\n",
    " step 6. Moves: 28612\n",
    " step 7. Moves: 42187\n",
    " step 8. Moves: 55888\n",
    " First player wins: 32395\n",
    " Second player wins: 23445\n",
    " Draw 35544\n",
    " Total 91384\n",
    "```"
   ]
  },
  {
   "cell_type": "code",
   "execution_count": 6,
   "metadata": {},
   "outputs": [],
   "source": [
    "def movimient(listaTabla, sign):\n",
    "    moves = list()\n",
    "    \n",
    "    for tablero in listaTabla:\n",
    "        moves.extend(movimientos(tablero, sign))\n",
    "    \n",
    "    return moves\n",
    "\n",
    "def count_possibilities():\n",
    "    boards = [vacio * 9]\n",
    "    ai_winnings = list()\n",
    "    opponent_winnings = list()\n",
    "\n",
    "    for number in range(9):\n",
    "        print(f'Step: {number}: Moves: {len(boards)}')\n",
    "\n",
    "        if number % 2 == 0:\n",
    "            sign = IA\n",
    "        else:\n",
    "            sign = yo\n",
    "\n",
    "        boards = movimient(boards, sign)\n",
    "        \n",
    "        for tablero in boards:\n",
    "            \n",
    "            if ganarJuego(tablero) == IA:\n",
    "                ai_winnings.append(tablero)\n",
    "                boards.remove(tablero)\n",
    "            \n",
    "            elif ganarJuego(tablero) == yo:\n",
    "                    opponent_winnings.append(tablero)\n",
    "                    boards.remove(tablero)\n",
    "\n",
    "    print(f'First player wins: {len(ai_winnings)}')\n",
    "    print(f'Second player wins: {len(opponent_winnings)}')\n",
    "    print(f'Draw: {len(boards)}')\n",
    "    print(f'Total {len(ai_winnings) + len(opponent_winnings) + len(boards)}')"
   ]
  },
  {
   "cell_type": "code",
   "execution_count": 7,
   "metadata": {},
   "outputs": [
    {
     "name": "stdout",
     "output_type": "stream",
     "text": [
      "Step: 0: Moves: 1\n",
      "Step: 1: Moves: 9\n",
      "Step: 2: Moves: 72\n",
      "Step: 3: Moves: 504\n",
      "Step: 4: Moves: 3024\n",
      "Step: 5: Moves: 8525\n",
      "Step: 6: Moves: 28612\n",
      "Step: 7: Moves: 42187\n",
      "Step: 8: Moves: 55888\n",
      "First player wins: 32395\n",
      "Second player wins: 23445\n",
      "Draw: 35544\n",
      "Total 91384\n"
     ]
    }
   ],
   "source": [
    "count_possibilities()"
   ]
  }
 ],
 "metadata": {
  "kernelspec": {
   "display_name": "Python 3",
   "language": "python",
   "name": "python3"
  },
  "language_info": {
   "codemirror_mode": {
    "name": "ipython",
    "version": 3
   },
   "file_extension": ".py",
   "mimetype": "text/x-python",
   "name": "python",
   "nbconvert_exporter": "python",
   "pygments_lexer": "ipython3",
   "version": "3.8.5"
  }
 },
 "nbformat": 4,
 "nbformat_minor": 4
}
